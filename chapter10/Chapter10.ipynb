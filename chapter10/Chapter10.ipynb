{
 "cells": [
  {
   "cell_type": "markdown",
   "metadata": {
    "slideshow": {
     "slide_type": "slide"
    }
   },
   "source": [
    "# 10章　ヒープ\n",
    "\n",
    "- Yusuke Matsuyama\n",
    "- 7/14@book-seminar2017\n",
    "- via jupyter RISE\n"
   ]
  },
  {
   "cell_type": "markdown",
   "metadata": {
    "slideshow": {
     "slide_type": "slide"
    }
   },
   "source": [
    "# おきもち\n",
    "\n",
    "\n",
    "1. 優先度付きキューを実装したい\n",
    "1. 二分探索木を使えば優先度付きキューは作れる\n",
    "    * しかし非常に難しい\n",
    "1. 二分ヒープを使えば比較的簡単\n",
    "    * つくろう!"
   ]
  },
  {
   "cell_type": "markdown",
   "metadata": {
    "collapsed": true,
    "slideshow": {
     "slide_type": "slide"
    }
   },
   "source": [
    "# アウトライン\n",
    "1. 二分ヒープの説明\n",
    "    1. 完全二分木\n",
    "    1. 二分ヒープ\n",
    "        1. max-ヒープ\n",
    "1. max-ヒープの実装\n",
    "1. 優先度付きキューの実装"
   ]
  },
  {
   "cell_type": "markdown",
   "metadata": {
    "slideshow": {
     "slide_type": "slide"
    }
   },
   "source": [
    "# 完全二分木\n",
    "\n",
    "- すべての葉が同じ深さを持ち、全ての内部接点の子の数が2であるような二分木(a)\n",
    "- 深さの差がmax1でも、ちゃんと左側から埋まってるような木も(おおよそ(?))二分木(b)\n",
    "\n",
    "![](./imgs/CBT.png)"
   ]
  },
  {
   "cell_type": "markdown",
   "metadata": {
    "slideshow": {
     "slide_type": "slide"
    }
   },
   "source": [
    "# 二分ヒープ\n",
    "完全二分木の各ノードに割り当てられたキーが、配列の各要素に対応したデータ構造\n",
    "![BH.png](./imgs/BH.png)"
   ]
  },
  {
   "cell_type": "markdown",
   "metadata": {
    "collapsed": true,
    "slideshow": {
     "slide_type": "slide"
    }
   },
   "source": [
    "# indexの計算\n",
    "添字iが与えられた時:"
   ]
  },
  {
   "cell_type": "code",
   "execution_count": 5,
   "metadata": {
    "slideshow": {
     "slide_type": "subslide"
    }
   },
   "outputs": [
    {
     "data": {
      "text/plain": [
       "(2, 10, 11)"
      ]
     },
     "execution_count": 5,
     "metadata": {},
     "output_type": "execute_result"
    }
   ],
   "source": [
    "import math\n",
    "L = 10 # length of heap\n",
    "\n",
    "# origin 1\n",
    "\n",
    "parent        = lambda  i : math.floor(i/2)\n",
    "left_child   = lambda  i : 2 * i \n",
    "right_child = lambda  i : 2 * i + 1\n",
    "parent(5),left_child(5), right_child(5)"
   ]
  },
  {
   "cell_type": "markdown",
   "metadata": {
    "slideshow": {
     "slide_type": "slide"
    }
   },
   "source": [
    "# max-ヒープ条件\n",
    "- 節点のキーがその親のキー以下であること(逆: minヒープ条件)\n",
    "- 制約があるのは親子間のみ(兄弟間にはない)\n",
    "\n",
    "## max-ヒープ\n",
    "- max ヒープ条件を満たす二分ヒープ\n",
    "![](./imgs/BH.png)\n"
   ]
  },
  {
   "cell_type": "markdown",
   "metadata": {
    "slideshow": {
     "slide_type": "slide"
    }
   },
   "source": [
    "# ヒープへの要素追加\n",
    "## maxheapfi(A,i) \n",
    "A[i]をmaxヒープ条件を満たすまで葉に向かって下降\n",
    "\n",
    "1. if max(左子のキー、右子のキー) > 自分のキー　then そいつと自分を入れ替える\n",
    "1. 1.を繰り返す\n",
    "\n",
    "## max-ヒープの構築\n",
    "子を持つ節点の中で添字が最大の節点sから逆順にmaxheapfi(A,s)をすればいい\n",
    "\n",
    "![maxheapfi.png](imgs/maxheapfi.png)"
   ]
  },
  {
   "cell_type": "markdown",
   "metadata": {
    "slideshow": {
     "slide_type": "slide"
    }
   },
   "source": [
    "# ヒープ構築の計算量\n",
    "要素数をHとする。\n",
    "\n",
    "## maxheapfi : \n",
    "    O(log 木の高さ)\n",
    "## ヒープの構築:\n",
    "    - 高さ1の部分木　H/2個に対してmaxheapfi\n",
    "    - 高さ2の部分木　H/4個に対してmaxheapfi\n",
    "    - ... 高さlog Hの部分木1つ に対してmaxheapfi\n",
    "    \n",
    "$$ H * \\sum^{logH}_{k=1} \\frac{k}{2^k} = O(H) $$\n"
   ]
  },
  {
   "cell_type": "markdown",
   "metadata": {
    "slideshow": {
     "slide_type": "slide"
    }
   },
   "source": [
    "# 問題1(15分) 最大ヒープの実装(ALDS1_9_B)\n",
    "与えられた配列から、max-ヒープを実装してください\n",
    "\n",
    "## 入力\n",
    "- 最初の行:配列サイズH\n",
    "- H個の配列要素\n",
    "\n",
    "```\n",
    "10\n",
    "4 1 3 2 16 9 10 14 8 7 \n",
    "```\n",
    "\n",
    "## 出力例\n",
    "max-ヒープの節点の値を1...Hに向かって順番に空白区切で出力\n",
    "```\n",
    "16 14 10 8 7 9 3 2 4 1\n",
    "```\n",
    "## 制約\n",
    "$$ 1 <= H <= 500000$$\n",
    "$$ -2,000,000,000 <= 節点の値 <= 2,000,000,000 $$\n",
    "\n"
   ]
  },
  {
   "cell_type": "code",
   "execution_count": 6,
   "metadata": {
    "slideshow": {
     "slide_type": "subslide"
    }
   },
   "outputs": [
    {
     "name": "stdout",
     "output_type": "stream",
     "text": [
      "#!/bin/bash\r\n",
      "\r\n",
      "code=$1\r\n",
      "\r\n",
      "set -eu\r\n",
      "\r\n",
      "[ \"$code\" == \"\" ] && code=\"template.c\"\r\n",
      "\r\n",
      "# This is setting for C users\r\n",
      "#compile=\"gcc -Wall $code\"\r\n",
      "#exec_command=\"./a.out\"\r\n",
      "\r\n",
      "# for example python users\r\n",
      "compile=\"\"\r\n",
      "exec_command=\"python $code\"\r\n",
      "\r\n",
      "test_sets=\"A1 B1 B2\"\r\n",
      "\r\n",
      "temp=$(mktemp aojtest.XXXXXX)\r\n",
      "trap \"rm $temp\" EXIT\r\n",
      "\r\n",
      "$compile\r\n",
      "for case in $test_sets; do\r\n",
      "  echo [case $case]\r\n",
      "  $exec_command < input/${case}.txt > $temp\r\n",
      "  if diff -u output/${case}.txt $temp; then\r\n",
      "    echo OK\r\n",
      "  fi\r\n",
      "done\r\n"
     ]
    }
   ],
   "source": [
    "! cat ./test.sh"
   ]
  },
  {
   "cell_type": "code",
   "execution_count": 7,
   "metadata": {
    "slideshow": {
     "slide_type": "subslide"
    }
   },
   "outputs": [
    {
     "name": "stdout",
     "output_type": "stream",
     "text": [
      "[16, 14, 10, 8, 7, 9, 3, 2, 4, 1]\n"
     ]
    }
   ],
   "source": [
    "# 解答1\n",
    "from  math import floor\n",
    "H = 0\n",
    "A = []\n",
    "\n",
    "def maxheapfi(i,A,H):\n",
    "        l = 2 * (i  + 1) - 1 \n",
    "        r = 2 * (i  + 1) \n",
    "        \n",
    "        if l  < H and A[l] > A[i] :\n",
    "            largest = l\n",
    "        else:\n",
    "            largest = i\n",
    "        \n",
    "        if r < H and A[r] > A[largest] :\n",
    "            largest = r\n",
    "        \n",
    "        if largest != i:\n",
    "            tmp = A[i]\n",
    "            A[i] = A[largest]\n",
    "            A[largest] = tmp\n",
    "            maxheapfi(largest,A,H)\n",
    "\n",
    "if __name__== '__main__':\n",
    "    #H = int(input().strip())\n",
    "    #A = map(int, input().strip().split(' '))\n",
    "    lines = [x.strip() for x in open('./input/A1.txt').readlines()]\n",
    "    H = int(lines[0])\n",
    "    A = list(map(int, lines[1].split(' ')))\n",
    "    \n",
    "    for k in range(floor(H/2)-1,-1,-1):\n",
    "        maxheapfi(k,A,H)\n",
    "        \n",
    "    print(A) \n",
    "        \n",
    "    \n",
    "    \n",
    "\n"
   ]
  },
  {
   "cell_type": "markdown",
   "metadata": {
    "slideshow": {
     "slide_type": "slide"
    }
   },
   "source": [
    "# 優先度付きキュー\n",
    "キーを持つ要素　の集合\n",
    "## insert(S,k):\n",
    "集合Sに要素kを挿入\n",
    "\n",
    "## extractMax(S):\n",
    "最大のキーを持つSの要素をSから削除し、その値を返す\n",
    "\n",
    "\n"
   ]
  },
  {
   "cell_type": "markdown",
   "metadata": {
    "slideshow": {
     "slide_type": "slide"
    }
   },
   "source": [
    "# 要素の追加\n",
    "1. ヒープの末尾に追加\n",
    "1. ヒープ条件の確保\n",
    "    - while(親より強い) : 親と入れかわる\n",
    "![insertPQ.png](./imgs/insertPQ.png)"
   ]
  },
  {
   "cell_type": "markdown",
   "metadata": {
    "slideshow": {
     "slide_type": "slide"
    }
   },
   "source": [
    "# 要素の取り出し\n",
    "1. 根を記録\n",
    "1. ヒープの一番末尾の要素を根に移動\n",
    "1. ヒープサイズH--\n",
    "1. 根からmaxheapfiを実行\n",
    "1. 記憶していた旧根の値をreturn\n",
    "![popPQ.png](imgs/popPQ.png)"
   ]
  },
  {
   "cell_type": "markdown",
   "metadata": {
    "slideshow": {
     "slide_type": "slide"
    }
   },
   "source": [
    "# 問題2 : 優先度付きキューの実装(ALDS1_9_C)\n",
    "## 入力:\n",
    "優先度付きキューへの複数の命令\n",
    "- insert k\n",
    "- extract\n",
    "- end\n",
    "\n",
    "## 出力:\n",
    "extract命令ごとに、優先度付きキューから取り出される値を一行ごとに出力\n",
    "\n",
    "## 制約\n",
    "$$命令の数 <= 2,000,000$$\n",
    "$$0 <= k <= 2,000,000,000$$"
   ]
  },
  {
   "cell_type": "markdown",
   "metadata": {
    "slideshow": {
     "slide_type": "subslide"
    }
   },
   "source": [
    "-　入力\n",
    "```入力\n",
    "insert 8\n",
    "insert 2\n",
    "extract\n",
    "insert 10\n",
    "extract\n",
    "imsert 11\n",
    "extract\n",
    "extract\n",
    "```\n",
    "- 出力\n",
    "```出力\n",
    "8\n",
    "10\n",
    "11\n",
    "2\n",
    "```"
   ]
  },
  {
   "cell_type": "code",
   "execution_count": 8,
   "metadata": {
    "slideshow": {
     "slide_type": "subslide"
    }
   },
   "outputs": [
    {
     "name": "stdout",
     "output_type": "stream",
     "text": [
      "999999999\n",
      "120\n",
      "100\n",
      "777\n",
      "100\n",
      "100\n",
      "100\n",
      "100\n",
      "120\n",
      "88\n"
     ]
    }
   ],
   "source": [
    "from math import floor\n",
    "\n",
    "def maxheapfi(i):\n",
    "    global H\n",
    "    global A\n",
    "    l = 2 * (i) + 1  \n",
    "    r = 2 * (i +1)\n",
    "\n",
    "    if l  < H and A[l] > A[i] :\n",
    "        largest = l\n",
    "    else:\n",
    "        largest = i\n",
    "\n",
    "    if r < H and A[r] > A[largest] :\n",
    "        largest = r\n",
    "    if largest != i:\n",
    "        tmp = A[i]\n",
    "        A[i] = A[largest]\n",
    "        A[largest] = tmp\n",
    "        maxheapfi(largest)\n",
    "    \n",
    "def extract():\n",
    "    global H\n",
    "    global A\n",
    "    if H < 0 : return -1000000\n",
    "    maxv = A[0]\n",
    "    A[0] = A[H-1]\n",
    "    H -= 1\n",
    "    maxheapfi(0)\n",
    "    return maxv\n",
    "\n",
    "def increasekey(i, key):\n",
    "    global H\n",
    "    global A\n",
    "    if key < A[i]:\n",
    "        return\n",
    "    A[i] = key\n",
    "    while( i > 0 and A[floor((i-1)/2)] < A[i]):\n",
    "        tmp = A[i]\n",
    "        A[i] = A[floor((i-1)/2) ] \n",
    "        A[floor((i-1)/2)]  = tmp\n",
    "        i = floor((i-1)/2)\n",
    "    \n",
    "        \n",
    "def insert(key):\n",
    "    global H\n",
    "    global A\n",
    "    H += 1\n",
    "    if len(A) < H:\n",
    "        A.append(-1000000)\n",
    "    else:\n",
    "        A[H-1] = -1000000\n",
    "    increasekey(H-1,key)\n",
    "\n",
    "def main():\n",
    "    global H\n",
    "    global A\n",
    "    H = 0\n",
    "    A = []\n",
    "    opr = None\n",
    "    count = 0\n",
    "    oprators = [x.strip().split(' ') for x in open('./input/B2.txt').readlines()]\n",
    "    for opr in oprators:\n",
    "    #while(True):\n",
    "        #opr = input().strip().split(' ')\n",
    "        if opr[0] == 'insert':\n",
    "            insert(int(opr[1]))\n",
    "        if opr[0] == 'extract':\n",
    "            print(extract())\n",
    "        if opr[0] == 'end':\n",
    "            break\n",
    "        \n",
    "main()\n"
   ]
  }
 ],
 "metadata": {
  "anaconda-cloud": {},
  "celltoolbar": "Slideshow",
  "kernelspec": {
   "display_name": "Python [default]",
   "language": "python",
   "name": "python3"
  },
  "language_info": {
   "codemirror_mode": {
    "name": "ipython",
    "version": 3
   },
   "file_extension": ".py",
   "mimetype": "text/x-python",
   "name": "python",
   "nbconvert_exporter": "python",
   "pygments_lexer": "ipython3",
   "version": "3.5.2"
  },
  "latex_envs": {
   "LaTeX_envs_menu_present": true,
   "autocomplete": true,
   "bibliofile": "biblio.bib",
   "cite_by": "apalike",
   "current_citInitial": 1,
   "eqLabelWithNumbers": true,
   "eqNumInitial": 1,
   "hotkeys": {
    "equation": "Ctrl-E",
    "itemize": "Ctrl-I"
   },
   "labels_anchors": false,
   "latex_user_defs": false,
   "report_style_numbering": false,
   "user_envs_cfg": false
  },
  "nbpresent": {
   "slides": {},
   "themes": {
    "default": "4594194c-21ab-49f0-a139-34891c548798",
    "theme": {
     "4594194c-21ab-49f0-a139-34891c548798": {
      "id": "4594194c-21ab-49f0-a139-34891c548798",
      "palette": {
       "19cc588f-0593-49c9-9f4b-e4d7cc113b1c": {
        "id": "19cc588f-0593-49c9-9f4b-e4d7cc113b1c",
        "rgb": [
         252,
         252,
         252
        ]
       },
       "31af15d2-7e15-44c5-ab5e-e04b16a89eff": {
        "id": "31af15d2-7e15-44c5-ab5e-e04b16a89eff",
        "rgb": [
         68,
         68,
         68
        ]
       },
       "50f92c45-a630-455b-aec3-788680ec7410": {
        "id": "50f92c45-a630-455b-aec3-788680ec7410",
        "rgb": [
         155,
         177,
         192
        ]
       },
       "c5cc3653-2ee1-402a-aba2-7caae1da4f6c": {
        "id": "c5cc3653-2ee1-402a-aba2-7caae1da4f6c",
        "rgb": [
         43,
         126,
         184
        ]
       },
       "efa7f048-9acb-414c-8b04-a26811511a21": {
        "id": "efa7f048-9acb-414c-8b04-a26811511a21",
        "rgb": [
         25.118061674008803,
         73.60176211453744,
         107.4819383259912
        ]
       }
      },
      "rules": {
       "blockquote": {
        "color": "50f92c45-a630-455b-aec3-788680ec7410"
       },
       "code": {
        "font-family": "Anonymous Pro"
       },
       "h1": {
        "color": "c5cc3653-2ee1-402a-aba2-7caae1da4f6c",
        "font-family": "Lato",
        "font-size": 8
       },
       "h2": {
        "color": "c5cc3653-2ee1-402a-aba2-7caae1da4f6c",
        "font-family": "Lato",
        "font-size": 6
       },
       "h3": {
        "color": "50f92c45-a630-455b-aec3-788680ec7410",
        "font-family": "Lato",
        "font-size": 5.5
       },
       "h4": {
        "color": "c5cc3653-2ee1-402a-aba2-7caae1da4f6c",
        "font-family": "Lato",
        "font-size": 5
       },
       "h5": {
        "font-family": "Lato"
       },
       "h6": {
        "font-family": "Lato"
       },
       "h7": {
        "font-family": "Lato"
       },
       "pre": {
        "font-family": "Anonymous Pro",
        "font-size": 4
       }
      },
      "text-base": {
       "font-family": "Merriweather",
       "font-size": 4
      }
     }
    }
   }
  },
  "toc": {
   "colors": {
    "hover_highlight": "#DAA520",
    "navigate_num": "#000000",
    "navigate_text": "#333333",
    "running_highlight": "#FF0000",
    "selected_highlight": "#FFD700",
    "sidebar_border": "#EEEEEE",
    "wrapper_background": "#FFFFFF"
   },
   "moveMenuLeft": true,
   "nav_menu": {
    "height": "0px",
    "width": "0px"
   },
   "navigate_menu": true,
   "number_sections": false,
   "sideBar": true,
   "threshold": 4,
   "toc_cell": false,
   "toc_section_display": "block",
   "toc_window_display": true,
   "widenNotebook": false
  }
 },
 "nbformat": 4,
 "nbformat_minor": 1
}
